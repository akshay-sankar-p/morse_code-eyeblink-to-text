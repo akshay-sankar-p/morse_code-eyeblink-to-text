{
 "cells": [
  {
   "cell_type": "code",
   "execution_count": 5,
   "metadata": {},
   "outputs": [
    {
     "name": "stdout",
     "output_type": "stream",
     "text": [
      "deque([1, 2, 3, 4, 5], maxlen=5)\n",
      "deque([0, 1, 2, 3, 4], maxlen=5)\n",
      "4\n",
      "deque([0, 1, 2, 3], maxlen=5)\n",
      "0\n",
      "deque([1, 2, 3], maxlen=5)\n"
     ]
    },
    {
     "data": {
      "text/plain": [
       "deque([], maxlen=5)"
      ]
     },
     "execution_count": 5,
     "metadata": {},
     "output_type": "execute_result"
    }
   ],
   "source": [
    "from collections import deque\n",
    "\n",
    "\n",
    "num_lst = deque(maxlen=5) # Create a deque with a maximum size of 5\n",
    "\n",
    "num_lst.append(0)\n",
    "num_lst.append(1)\n",
    "num_lst.append(2)\n",
    "num_lst.append(3)\n",
    "num_lst.append(4)\n",
    "num_lst.append(5)  # This will cause 0 to be removed automatically (limited to 5 elements)\n",
    "\n",
    "print(num_lst)  # Output: deque([1, 2, 3, 4, 5])\n",
    "\n",
    "num_lst.appendleft(0)\n",
    "print(num_lst)  # Output: deque([0, 1, 2, 3, 4)\n",
    "\n",
    "element = num_lst.pop()\n",
    "print(element)  # Output: 4\n",
    "print(num_lst)  # Output: deque([0, 1, 2, 3])\n",
    "\n",
    "element = num_lst.popleft()\n",
    "print(element)  # Output: 0\n",
    "print(num_lst)  # Output: deque([1, 2, 3])\n",
    "\n",
    "num_lst = deque(maxlen=5)\n",
    "num_lst"
   ]
  },
  {
   "cell_type": "code",
   "execution_count": null,
   "metadata": {},
   "outputs": [],
   "source": []
  }
 ],
 "metadata": {
  "kernelspec": {
   "display_name": "pythhon311",
   "language": "python",
   "name": "python3"
  },
  "language_info": {
   "codemirror_mode": {
    "name": "ipython",
    "version": 3
   },
   "file_extension": ".py",
   "mimetype": "text/x-python",
   "name": "python",
   "nbconvert_exporter": "python",
   "pygments_lexer": "ipython3",
   "version": "3.11.7"
  }
 },
 "nbformat": 4,
 "nbformat_minor": 2
}
